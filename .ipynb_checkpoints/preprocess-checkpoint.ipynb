{
 "cells": [
  {
   "cell_type": "code",
   "execution_count": 1,
   "metadata": {},
   "outputs": [],
   "source": [
    "# importing the necessary packages\n",
    "import pandas as pd\n",
    "import numpy as np"
   ]
  },
  {
   "cell_type": "code",
   "execution_count": 2,
   "metadata": {},
   "outputs": [],
   "source": [
    "from nltk.stem.porter import PorterStemmer\n",
    "from nltk.corpus import stopwords"
   ]
  },
  {
   "cell_type": "code",
   "execution_count": 3,
   "metadata": {},
   "outputs": [],
   "source": [
    "from sklearn.feature_extraction.text import HashingVectorizer\n",
    "from sklearn.linear_model import SGDClassifier"
   ]
  },
  {
   "cell_type": "code",
   "execution_count": 4,
   "metadata": {},
   "outputs": [],
   "source": [
    "from sklearn.model_selection import train_test_split"
   ]
  },
  {
   "cell_type": "code",
   "execution_count": 35,
   "metadata": {},
   "outputs": [],
   "source": [
    "from sklearn.metrics import classification_report, confusion_matrix"
   ]
  },
  {
   "cell_type": "code",
   "execution_count": 71,
   "metadata": {},
   "outputs": [],
   "source": [
    "import os\n",
    "import re\n",
    "import pickle\n",
    "from tqdm import tqdm"
   ]
  },
  {
   "cell_type": "code",
   "execution_count": 11,
   "metadata": {},
   "outputs": [
    {
     "data": {
      "text/html": [
       "<div>\n",
       "<style scoped>\n",
       "    .dataframe tbody tr th:only-of-type {\n",
       "        vertical-align: middle;\n",
       "    }\n",
       "\n",
       "    .dataframe tbody tr th {\n",
       "        vertical-align: top;\n",
       "    }\n",
       "\n",
       "    .dataframe thead th {\n",
       "        text-align: right;\n",
       "    }\n",
       "</style>\n",
       "<table border=\"1\" class=\"dataframe\">\n",
       "  <thead>\n",
       "    <tr style=\"text-align: right;\">\n",
       "      <th></th>\n",
       "      <th>review</th>\n",
       "      <th>sentiment</th>\n",
       "    </tr>\n",
       "  </thead>\n",
       "  <tbody>\n",
       "    <tr>\n",
       "      <th>0</th>\n",
       "      <td>In 1974, the teenager Martha Moxley (Maggie Gr...</td>\n",
       "      <td>1</td>\n",
       "    </tr>\n",
       "    <tr>\n",
       "      <th>1</th>\n",
       "      <td>OK... so... I really like Kris Kristofferson a...</td>\n",
       "      <td>0</td>\n",
       "    </tr>\n",
       "    <tr>\n",
       "      <th>2</th>\n",
       "      <td>***SPOILER*** Do not read this, if you think a...</td>\n",
       "      <td>0</td>\n",
       "    </tr>\n",
       "    <tr>\n",
       "      <th>3</th>\n",
       "      <td>hi for all the people who have seen this wonde...</td>\n",
       "      <td>1</td>\n",
       "    </tr>\n",
       "    <tr>\n",
       "      <th>4</th>\n",
       "      <td>I recently bought the DVD, forgetting just how...</td>\n",
       "      <td>0</td>\n",
       "    </tr>\n",
       "  </tbody>\n",
       "</table>\n",
       "</div>"
      ],
      "text/plain": [
       "                                              review  sentiment\n",
       "0  In 1974, the teenager Martha Moxley (Maggie Gr...          1\n",
       "1  OK... so... I really like Kris Kristofferson a...          0\n",
       "2  ***SPOILER*** Do not read this, if you think a...          0\n",
       "3  hi for all the people who have seen this wonde...          1\n",
       "4  I recently bought the DVD, forgetting just how...          0"
      ]
     },
     "execution_count": 11,
     "metadata": {},
     "output_type": "execute_result"
    }
   ],
   "source": [
    "# reading the CSV file\n",
    "df = pd.read_csv('data/movie_data.csv', encoding='utf-8')\n",
    "df.head()"
   ]
  },
  {
   "cell_type": "markdown",
   "metadata": {},
   "source": [
    "#### Preprocessing"
   ]
  },
  {
   "cell_type": "code",
   "execution_count": 12,
   "metadata": {},
   "outputs": [
    {
     "data": {
      "text/plain": [
       "'In 1974, the teenager Martha Moxley (Maggie Grace) moves to the high-class area of Belle Haven, Greenwich, Connecticut. On the Mischief Night, eve of Halloween, she was murdered in the backyard of her house and her murder remained unsolved. Twenty-two years later, the writer Mark Fuhrman (Christopher Meloni), who is a former LA detective that has fallen in disgrace for perjury in O.J. Simpson trial and moved to Idaho, decides to investigate the case with his partner Stephen Weeks (Andrew Mitchell) with the purpose of writing a book. The locals squirm and do not welcome them, but with the support of the retired detective Steve Carroll (Robert Forster) that was in charge of the investigation in the 70\\'s, they discover the criminal and a net of power and money to cover the murder.<br /><br />\"Murder in Greenwich\" is a good TV movie, with the true story of a murder of a fifteen years old girl that was committed by a wealthy teenager whose mother was a Kennedy. The powerful and rich family used their influence to cover the murder for more than twenty years. However, a snoopy detective and convicted perjurer in disgrace was able to disclose how the hideous crime was committed. The screenplay shows the investigation of Mark and the last days of Martha in parallel, but there is a lack of the emotion in the dramatization. My vote is seven.<br /><br />Title (Brazil): Not Available'"
      ]
     },
     "execution_count": 12,
     "metadata": {},
     "output_type": "execute_result"
    }
   ],
   "source": [
    "# looking at the reviews\n",
    "df.loc[0,'review']"
   ]
  },
  {
   "cell_type": "code",
   "execution_count": 13,
   "metadata": {},
   "outputs": [
    {
     "name": "stdout",
     "output_type": "stream",
     "text": [
      "<class 'pandas.core.frame.DataFrame'>\n",
      "RangeIndex: 50000 entries, 0 to 49999\n",
      "Data columns (total 2 columns):\n",
      "review       50000 non-null object\n",
      "sentiment    50000 non-null int64\n",
      "dtypes: int64(1), object(1)\n",
      "memory usage: 781.3+ KB\n"
     ]
    }
   ],
   "source": [
    "df.info()"
   ]
  },
  {
   "cell_type": "code",
   "execution_count": 14,
   "metadata": {},
   "outputs": [],
   "source": [
    "sample_txt = df.loc[0,'review'][0:50]"
   ]
  },
  {
   "cell_type": "code",
   "execution_count": 15,
   "metadata": {},
   "outputs": [
    {
     "data": {
      "text/plain": [
       "'In 1974, the teenager Martha Moxley (Maggie Grace)'"
      ]
     },
     "execution_count": 15,
     "metadata": {},
     "output_type": "execute_result"
    }
   ],
   "source": [
    "sample_txt"
   ]
  },
  {
   "cell_type": "code",
   "execution_count": 38,
   "metadata": {},
   "outputs": [],
   "source": [
    "class Preprocess:\n",
    "    \n",
    "    def __init__(self):\n",
    "        self.porter = PorterStemmer()\n",
    "        self.stop_words = stopwords.words('english')\n",
    "    \n",
    "    #1\n",
    "    def remove_special_char(self, text):\n",
    "        reg_pattern = re.compile('<.*?>|[.,&:\\\\\\']')\n",
    "        return re.sub(reg_pattern, ' ', str(text))\n",
    "    \n",
    "    #2\n",
    "    def to_lower_case(self, text):\n",
    "        return text.lower()\n",
    "\n",
    "    #3\n",
    "    def tokenizer_simple(self, text):\n",
    "        return text.split()\n",
    "    \n",
    "     #4\n",
    "    def remove_stop_words(self, text):\n",
    "        return [word for word in text\n",
    "                    if word not in self.stop_words]\n",
    "    \n",
    "    #5\n",
    "    def stem_porter(self, text, make_token_first=False):\n",
    "        \n",
    "        if make_token_first:\n",
    "            return [self.porter.stem(w) for w in tokenizer_simple(text)]\n",
    "        else:\n",
    "            return [self.porter.stem(l) for l in text]\n",
    "    \n",
    "    #final\n",
    "    def preprocess_text(self, text):\n",
    "        return ' '.join(self.stem_porter(\n",
    "            self.remove_stop_words(\n",
    "            self.tokenizer_simple(\n",
    "            self.to_lower_case(\n",
    "            self.remove_special_char(text))))))"
   ]
  },
  {
   "cell_type": "code",
   "execution_count": 17,
   "metadata": {},
   "outputs": [
    {
     "data": {
      "text/plain": [
       "'1974 teenag martha moxley (maggi grace)'"
      ]
     },
     "execution_count": 17,
     "metadata": {},
     "output_type": "execute_result"
    }
   ],
   "source": [
    "preprocess = Preprocess()\n",
    "processed_sample_text = preprocess.preprocess_text(sample_txt)\n",
    "processed_sample_text"
   ]
  },
  {
   "cell_type": "code",
   "execution_count": 21,
   "metadata": {},
   "outputs": [],
   "source": [
    "test = df.head(20)"
   ]
  },
  {
   "cell_type": "code",
   "execution_count": 22,
   "metadata": {},
   "outputs": [
    {
     "name": "stderr",
     "output_type": "stream",
     "text": [
      "100%|███████████████████████████████████████████████████████████████████████████| 50000/50000 [03:17<00:00, 252.74it/s]\n"
     ]
    }
   ],
   "source": [
    "rev=[]\n",
    "for i in tqdm(range(df.shape[0])):\n",
    "    rev.append(preprocess.preprocess_text(df.loc[i, 'review']))"
   ]
  },
  {
   "cell_type": "code",
   "execution_count": 23,
   "metadata": {},
   "outputs": [],
   "source": [
    "rev = np.array(rev)\n",
    "df['reviews'] = rev"
   ]
  },
  {
   "cell_type": "code",
   "execution_count": 24,
   "metadata": {},
   "outputs": [],
   "source": [
    "df.drop('review', axis=1, inplace=True)"
   ]
  },
  {
   "cell_type": "code",
   "execution_count": 25,
   "metadata": {},
   "outputs": [
    {
     "data": {
      "text/html": [
       "<div>\n",
       "<style scoped>\n",
       "    .dataframe tbody tr th:only-of-type {\n",
       "        vertical-align: middle;\n",
       "    }\n",
       "\n",
       "    .dataframe tbody tr th {\n",
       "        vertical-align: top;\n",
       "    }\n",
       "\n",
       "    .dataframe thead th {\n",
       "        text-align: right;\n",
       "    }\n",
       "</style>\n",
       "<table border=\"1\" class=\"dataframe\">\n",
       "  <thead>\n",
       "    <tr style=\"text-align: right;\">\n",
       "      <th></th>\n",
       "      <th>sentiment</th>\n",
       "      <th>reviews</th>\n",
       "    </tr>\n",
       "  </thead>\n",
       "  <tbody>\n",
       "    <tr>\n",
       "      <th>0</th>\n",
       "      <td>1</td>\n",
       "      <td>1974 teenag martha moxley (maggi grace) move h...</td>\n",
       "    </tr>\n",
       "    <tr>\n",
       "      <th>1</th>\n",
       "      <td>0</td>\n",
       "      <td>ok realli like kri kristofferson usual easi go...</td>\n",
       "    </tr>\n",
       "    <tr>\n",
       "      <th>2</th>\n",
       "      <td>0</td>\n",
       "      <td>spoiler read think watch movi although would w...</td>\n",
       "    </tr>\n",
       "    <tr>\n",
       "      <th>3</th>\n",
       "      <td>1</td>\n",
       "      <td>hi peopl seen wonder movi im sure thet would l...</td>\n",
       "    </tr>\n",
       "    <tr>\n",
       "      <th>4</th>\n",
       "      <td>0</td>\n",
       "      <td>recent bought dvd forget much hate movi versio...</td>\n",
       "    </tr>\n",
       "  </tbody>\n",
       "</table>\n",
       "</div>"
      ],
      "text/plain": [
       "   sentiment                                            reviews\n",
       "0          1  1974 teenag martha moxley (maggi grace) move h...\n",
       "1          0  ok realli like kri kristofferson usual easi go...\n",
       "2          0  spoiler read think watch movi although would w...\n",
       "3          1  hi peopl seen wonder movi im sure thet would l...\n",
       "4          0  recent bought dvd forget much hate movi versio..."
      ]
     },
     "execution_count": 25,
     "metadata": {},
     "output_type": "execute_result"
    }
   ],
   "source": [
    "df.head()"
   ]
  },
  {
   "cell_type": "code",
   "execution_count": 26,
   "metadata": {},
   "outputs": [],
   "source": [
    "df.to_csv('data/movie_reviews_new.csv', encoding='utf-8', index=False)"
   ]
  },
  {
   "cell_type": "code",
   "execution_count": 6,
   "metadata": {},
   "outputs": [],
   "source": [
    "df_new = pd.read_csv('data/movie_reviews_new.csv')"
   ]
  },
  {
   "cell_type": "code",
   "execution_count": 7,
   "metadata": {},
   "outputs": [
    {
     "data": {
      "text/html": [
       "<div>\n",
       "<style scoped>\n",
       "    .dataframe tbody tr th:only-of-type {\n",
       "        vertical-align: middle;\n",
       "    }\n",
       "\n",
       "    .dataframe tbody tr th {\n",
       "        vertical-align: top;\n",
       "    }\n",
       "\n",
       "    .dataframe thead th {\n",
       "        text-align: right;\n",
       "    }\n",
       "</style>\n",
       "<table border=\"1\" class=\"dataframe\">\n",
       "  <thead>\n",
       "    <tr style=\"text-align: right;\">\n",
       "      <th></th>\n",
       "      <th>sentiment</th>\n",
       "      <th>reviews</th>\n",
       "    </tr>\n",
       "  </thead>\n",
       "  <tbody>\n",
       "    <tr>\n",
       "      <th>0</th>\n",
       "      <td>1</td>\n",
       "      <td>1974 teenag martha moxley (maggi grace) move h...</td>\n",
       "    </tr>\n",
       "    <tr>\n",
       "      <th>1</th>\n",
       "      <td>0</td>\n",
       "      <td>ok realli like kri kristofferson usual easi go...</td>\n",
       "    </tr>\n",
       "    <tr>\n",
       "      <th>2</th>\n",
       "      <td>0</td>\n",
       "      <td>spoiler read think watch movi although would w...</td>\n",
       "    </tr>\n",
       "    <tr>\n",
       "      <th>3</th>\n",
       "      <td>1</td>\n",
       "      <td>hi peopl seen wonder movi im sure thet would l...</td>\n",
       "    </tr>\n",
       "    <tr>\n",
       "      <th>4</th>\n",
       "      <td>0</td>\n",
       "      <td>recent bought dvd forget much hate movi versio...</td>\n",
       "    </tr>\n",
       "  </tbody>\n",
       "</table>\n",
       "</div>"
      ],
      "text/plain": [
       "   sentiment                                            reviews\n",
       "0          1  1974 teenag martha moxley (maggi grace) move h...\n",
       "1          0  ok realli like kri kristofferson usual easi go...\n",
       "2          0  spoiler read think watch movi although would w...\n",
       "3          1  hi peopl seen wonder movi im sure thet would l...\n",
       "4          0  recent bought dvd forget much hate movi versio..."
      ]
     },
     "execution_count": 7,
     "metadata": {},
     "output_type": "execute_result"
    }
   ],
   "source": [
    "df_new.head()"
   ]
  },
  {
   "cell_type": "code",
   "execution_count": 77,
   "metadata": {},
   "outputs": [],
   "source": [
    "# stopwords\n",
    "stop = stopwords.words('english')"
   ]
  },
  {
   "cell_type": "code",
   "execution_count": 78,
   "metadata": {},
   "outputs": [],
   "source": [
    "def tokenizer(text):\n",
    "    text = re.sub('<[^>]*>', '', text)\n",
    "    emoticons = re.findall('(?::|;|=)(?:-)?(?:\\)|\\(|D|P)', text.lower())\n",
    "    text = re.sub('[\\W]+', ' ', text.lower()) +\\\n",
    "      ' '.join(emoticons).replace('-', '')\n",
    "    tokenized = [w for w in text.split() if w not in stop]\n",
    "    return tokenized"
   ]
  },
  {
   "cell_type": "code",
   "execution_count": 54,
   "metadata": {},
   "outputs": [],
   "source": [
    "# initializing Hashing Vectorizer\n",
    "\n",
    "vect = HashingVectorizer(decode_error='ignore',\n",
    "                            n_features=2**21,\n",
    "                            preprocessor=None,\n",
    "                            tokenizer=tokenizer)"
   ]
  },
  {
   "cell_type": "code",
   "execution_count": 55,
   "metadata": {},
   "outputs": [],
   "source": [
    "# Stoichastic Gradient Descent Classifier with Logarithmic Penalty\n",
    "clf = SGDClassifier(loss='log', random_state=1,\n",
    "                    max_iter=1)"
   ]
  },
  {
   "cell_type": "code",
   "execution_count": 56,
   "metadata": {},
   "outputs": [],
   "source": [
    "df_train, df_test = train_test_split(df_new, test_size=0.1,\n",
    "                                     shuffle=False)"
   ]
  },
  {
   "cell_type": "code",
   "execution_count": 57,
   "metadata": {},
   "outputs": [],
   "source": [
    "df_train.reset_index(drop=True, inplace=True)\n",
    "df_test.reset_index(drop=True, inplace=True)"
   ]
  },
  {
   "cell_type": "code",
   "execution_count": 58,
   "metadata": {},
   "outputs": [],
   "source": [
    "def stream_docs(data=df_train):\n",
    "    \n",
    "    for i in range(data.shape[0]):\n",
    "        text = data.loc[i, 'reviews']\n",
    "        label = int(data.loc[i, 'sentiment'])\n",
    "        \n",
    "        yield text, label"
   ]
  },
  {
   "cell_type": "code",
   "execution_count": 59,
   "metadata": {},
   "outputs": [],
   "source": [
    "# initializing the Generator function that feeds data\n",
    "train_docs = stream_docs(df_train)\n",
    "test_docs = stream_docs(df_test)"
   ]
  },
  {
   "cell_type": "code",
   "execution_count": 60,
   "metadata": {},
   "outputs": [],
   "source": [
    "def get_minibatch(text_stream,batch_size):\n",
    "    X, y = [], []\n",
    "    try:\n",
    "        for _ in range(batch_size):\n",
    "            txt, lbl = next(text_stream)\n",
    "            \n",
    "            X.append(txt)\n",
    "            y.append(lbl)\n",
    "    \n",
    "    except StopIteration:\n",
    "        return None, None\n",
    "    \n",
    "    return X, y"
   ]
  },
  {
   "cell_type": "code",
   "execution_count": 61,
   "metadata": {},
   "outputs": [],
   "source": [
    "# Batch-Size for each minibatch\n",
    "BATCH_SIZE=1000\n",
    "\n",
    "# Number of classes in the \n",
    "classes = np.array([0, 1])"
   ]
  },
  {
   "cell_type": "code",
   "execution_count": 62,
   "metadata": {},
   "outputs": [],
   "source": [
    "EPOCHS = int(df_train.shape[0]/BATCH_SIZE)"
   ]
  },
  {
   "cell_type": "code",
   "execution_count": 63,
   "metadata": {
    "scrolled": true
   },
   "outputs": [
    {
     "name": "stderr",
     "output_type": "stream",
     "text": [
      "\n",
      "\n",
      "  0%|                                                                                           | 0/45 [00:00<?, ?it/s]\n",
      "\n",
      "  2%|█▊                                                                                 | 1/45 [00:00<00:23,  1.91it/s]\n",
      "\n",
      "  4%|███▋                                                                               | 2/45 [00:01<00:22,  1.93it/s]\n",
      "\n",
      "  7%|█████▌                                                                             | 3/45 [00:01<00:21,  1.94it/s]\n",
      "\n",
      "  9%|███████▍                                                                           | 4/45 [00:02<00:21,  1.94it/s]\n",
      "\n",
      " 11%|█████████▏                                                                         | 5/45 [00:02<00:20,  1.93it/s]\n",
      "\n",
      " 13%|███████████                                                                        | 6/45 [00:03<00:20,  1.93it/s]\n",
      "\n",
      " 16%|████████████▉                                                                      | 7/45 [00:03<00:19,  1.93it/s]\n",
      "\n",
      " 18%|██████████████▊                                                                    | 8/45 [00:04<00:19,  1.93it/s]\n",
      "\n",
      " 20%|████████████████▌                                                                  | 9/45 [00:04<00:18,  1.93it/s]\n",
      "\n",
      " 22%|██████████████████▏                                                               | 10/45 [00:05<00:18,  1.92it/s]\n",
      "\n",
      " 24%|████████████████████                                                              | 11/45 [00:05<00:17,  1.91it/s]\n",
      "\n",
      " 27%|█████████████████████▊                                                            | 12/45 [00:06<00:17,  1.91it/s]\n",
      "\n",
      " 29%|███████████████████████▋                                                          | 13/45 [00:06<00:16,  1.92it/s]\n",
      "\n",
      " 31%|█████████████████████████▌                                                        | 14/45 [00:07<00:16,  1.90it/s]\n",
      "\n",
      " 33%|███████████████████████████▎                                                      | 15/45 [00:07<00:15,  1.90it/s]\n",
      "\n",
      " 36%|█████████████████████████████▏                                                    | 16/45 [00:08<00:15,  1.90it/s]\n",
      "\n",
      " 38%|██████████████████████████████▉                                                   | 17/45 [00:08<00:14,  1.91it/s]\n",
      "\n",
      " 40%|████████████████████████████████▊                                                 | 18/45 [00:09<00:14,  1.91it/s]\n",
      "\n",
      " 42%|██████████████████████████████████▌                                               | 19/45 [00:09<00:13,  1.90it/s]\n",
      "\n",
      " 44%|████████████████████████████████████▍                                             | 20/45 [00:10<00:13,  1.92it/s]\n",
      "\n",
      " 47%|██████████████████████████████████████▎                                           | 21/45 [00:10<00:12,  1.93it/s]\n",
      "\n",
      " 49%|████████████████████████████████████████                                          | 22/45 [00:11<00:11,  1.94it/s]\n",
      "\n",
      " 51%|█████████████████████████████████████████▉                                        | 23/45 [00:11<00:11,  1.95it/s]\n",
      "\n",
      " 53%|███████████████████████████████████████████▋                                      | 24/45 [00:12<00:10,  1.95it/s]\n",
      "\n",
      " 56%|█████████████████████████████████████████████▌                                    | 25/45 [00:12<00:10,  1.95it/s]\n",
      "\n",
      " 58%|███████████████████████████████████████████████▍                                  | 26/45 [00:13<00:09,  1.95it/s]\n",
      "\n",
      " 60%|█████████████████████████████████████████████████▏                                | 27/45 [00:13<00:09,  1.95it/s]\n",
      "\n",
      " 62%|███████████████████████████████████████████████████                               | 28/45 [00:14<00:08,  1.96it/s]\n",
      "\n",
      " 64%|████████████████████████████████████████████████████▊                             | 29/45 [00:15<00:08,  1.94it/s]\n",
      "\n",
      " 67%|██████████████████████████████████████████████████████▋                           | 30/45 [00:15<00:07,  1.94it/s]\n",
      "\n",
      " 69%|████████████████████████████████████████████████████████▍                         | 31/45 [00:16<00:07,  1.92it/s]\n",
      "\n",
      " 71%|██████████████████████████████████████████████████████████▎                       | 32/45 [00:16<00:06,  1.93it/s]\n",
      "\n",
      " 73%|████████████████████████████████████████████████████████████▏                     | 33/45 [00:17<00:06,  1.95it/s]\n",
      "\n",
      " 76%|█████████████████████████████████████████████████████████████▉                    | 34/45 [00:17<00:05,  1.93it/s]\n",
      "\n",
      " 78%|███████████████████████████████████████████████████████████████▊                  | 35/45 [00:18<00:05,  1.93it/s]\n",
      "\n",
      " 80%|█████████████████████████████████████████████████████████████████▌                | 36/45 [00:18<00:04,  1.92it/s]\n",
      "\n",
      " 82%|███████████████████████████████████████████████████████████████████▍              | 37/45 [00:19<00:04,  1.93it/s]\n",
      "\n",
      " 84%|█████████████████████████████████████████████████████████████████████▏            | 38/45 [00:19<00:03,  1.94it/s]\n",
      "\n",
      " 87%|███████████████████████████████████████████████████████████████████████           | 39/45 [00:20<00:03,  1.93it/s]\n",
      "\n",
      " 89%|████████████████████████████████████████████████████████████████████████▉         | 40/45 [00:20<00:02,  1.93it/s]\n",
      "\n",
      " 91%|██████████████████████████████████████████████████████████████████████████▋       | 41/45 [00:21<00:02,  1.93it/s]\n",
      "\n",
      " 93%|████████████████████████████████████████████████████████████████████████████▌     | 42/45 [00:21<00:01,  1.94it/s]\n",
      "\n",
      " 96%|██████████████████████████████████████████████████████████████████████████████▎   | 43/45 [00:22<00:01,  1.93it/s]\n",
      "\n",
      " 98%|████████████████████████████████████████████████████████████████████████████████▏ | 44/45 [00:22<00:00,  1.92it/s]\n",
      "\n",
      "100%|██████████████████████████████████████████████████████████████████████████████████| 45/45 [00:23<00:00,  1.93it/s]\n",
      "\n"
     ]
    }
   ],
   "source": [
    "for _ in tqdm(range(EPOCHS)):\n",
    "    X_train, y_train = get_minibatch(train_docs, batch_size=BATCH_SIZE)\n",
    "    if not X_train:\n",
    "        break\n",
    "    X_train = vect.transform(X_train)\n",
    "    clf.partial_fit(X_train, y_train, classes=classes)"
   ]
  },
  {
   "cell_type": "code",
   "execution_count": 64,
   "metadata": {},
   "outputs": [],
   "source": [
    "X_test, y_test = get_minibatch(test_docs, batch_size=5000)"
   ]
  },
  {
   "cell_type": "code",
   "execution_count": 65,
   "metadata": {},
   "outputs": [
    {
     "data": {
      "text/plain": [
       "list"
      ]
     },
     "execution_count": 65,
     "metadata": {},
     "output_type": "execute_result"
    }
   ],
   "source": [
    "type(X_test)"
   ]
  },
  {
   "cell_type": "code",
   "execution_count": 66,
   "metadata": {},
   "outputs": [],
   "source": [
    "X_test = vect.transform(X_test)"
   ]
  },
  {
   "cell_type": "code",
   "execution_count": 67,
   "metadata": {},
   "outputs": [],
   "source": [
    "pred = clf.predict(X_test)"
   ]
  },
  {
   "cell_type": "code",
   "execution_count": 68,
   "metadata": {},
   "outputs": [
    {
     "name": "stdout",
     "output_type": "stream",
     "text": [
      "[[2172  296]\n",
      " [ 334 2198]]\n",
      "              precision    recall  f1-score   support\n",
      "\n",
      "           0       0.87      0.88      0.87      2468\n",
      "           1       0.88      0.87      0.87      2532\n",
      "\n",
      "   micro avg       0.87      0.87      0.87      5000\n",
      "   macro avg       0.87      0.87      0.87      5000\n",
      "weighted avg       0.87      0.87      0.87      5000\n",
      "\n"
     ]
    }
   ],
   "source": [
    "print(confusion_matrix(y_test, pred))\n",
    "print(classification_report(y_test, pred))"
   ]
  },
  {
   "cell_type": "code",
   "execution_count": 69,
   "metadata": {},
   "outputs": [
    {
     "name": "stdout",
     "output_type": "stream",
     "text": [
      "Accuracy: 0.874\n"
     ]
    }
   ],
   "source": [
    "print('Accuracy: %.3f' % clf.score(X_test, y_test))"
   ]
  },
  {
   "cell_type": "code",
   "execution_count": 73,
   "metadata": {},
   "outputs": [],
   "source": [
    "mvi_clf = os.path.join('movieclassifier', 'pkl_objects')\n",
    "if not os.path.exists(mvi_clf):\n",
    "    os.makedirs(mvi_clf)"
   ]
  },
  {
   "cell_type": "code",
   "execution_count": 80,
   "metadata": {},
   "outputs": [],
   "source": [
    "# pickling\n",
    "# dumping stopwords\n",
    "pickle.dump(stop, open(os.path.join(mvi_clf, 'stopwords.pkl'), 'wb'),\n",
    "               protocol=4)"
   ]
  },
  {
   "cell_type": "code",
   "execution_count": 81,
   "metadata": {},
   "outputs": [],
   "source": [
    "# pickling\n",
    "# dumping classifier\n",
    "pickle.dump(clf, open(os.path.join(mvi_clf, 'classifier.plk'), 'wb'),\n",
    "               protocol=4)"
   ]
  },
  {
   "cell_type": "code",
   "execution_count": null,
   "metadata": {},
   "outputs": [],
   "source": []
  }
 ],
 "metadata": {
  "kernelspec": {
   "display_name": "Python 3",
   "language": "python",
   "name": "python3"
  },
  "language_info": {
   "codemirror_mode": {
    "name": "ipython",
    "version": 3
   },
   "file_extension": ".py",
   "mimetype": "text/x-python",
   "name": "python",
   "nbconvert_exporter": "python",
   "pygments_lexer": "ipython3",
   "version": "3.6.6"
  }
 },
 "nbformat": 4,
 "nbformat_minor": 2
}
